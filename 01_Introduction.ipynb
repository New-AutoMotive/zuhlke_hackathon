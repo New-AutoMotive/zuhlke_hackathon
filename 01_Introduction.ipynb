{
 "metadata": {
  "language_info": {
   "codemirror_mode": {
    "name": "ipython",
    "version": 3
   },
   "file_extension": ".py",
   "mimetype": "text/x-python",
   "name": "python",
   "nbconvert_exporter": "python",
   "pygments_lexer": "ipython3",
   "version": "3.8.2-final"
  },
  "orig_nbformat": 2,
  "kernelspec": {
   "name": "python3",
   "display_name": "Python 3.8.2 64-bit ('py38': conda)",
   "metadata": {
    "interpreter": {
     "hash": "cc702f437d1e8541d571e87a07e1b6abbba40a70bd63f5b0a64190c6ccab6213"
    }
   }
  }
 },
 "nbformat": 4,
 "nbformat_minor": 2,
 "cells": [
  {
   "source": [
    "# Zuhlke - NewAutoMotive Hackathon\n",
    "\n"
   ],
   "cell_type": "markdown",
   "metadata": {}
  },
  {
   "source": [
    "## Data sources"
   ],
   "cell_type": "markdown",
   "metadata": {}
  },
  {
   "source": [
    "### Setup"
   ],
   "cell_type": "markdown",
   "metadata": {}
  },
  {
   "cell_type": "code",
   "execution_count": 3,
   "metadata": {},
   "outputs": [],
   "source": [
    "import requests\n",
    "import pandas as pd\n",
    "from pandas_ods_reader import read_ods"
   ]
  },
  {
   "source": [
    "### 1. New Vehicle Registrations by vehicle type, quarterly"
   ],
   "cell_type": "markdown",
   "metadata": {}
  },
  {
   "source": [
    "The Department for Transport (DfT) and their statistical team publishes a large amount of vehicle information.  \n",
    "The main page for this information is here: https://www.gov.uk/government/collections/vehicles-statistics  \n",
    "We've selected a few tables that are of particular interest. The code below downloads the data file to the `data` folder, and pulls a relevant part of the spreadsheet into a dataframe."
   ],
   "cell_type": "markdown",
   "metadata": {}
  },
  {
   "cell_type": "code",
   "execution_count": 4,
   "metadata": {},
   "outputs": [
    {
     "output_type": "execute_result",
     "data": {
      "text/plain": [
       "50803"
      ]
     },
     "metadata": {},
     "execution_count": 4
    }
   ],
   "source": [
    "file_url =  'https://assets.publishing.service.gov.uk/government/uploads/system/uploads/attachment_data/file/917425/veh0253.ods'\n",
    "filepath = f'data/veh0253.ods'\n",
    "\n",
    "r = requests.get(file_url)\n",
    "with open(filepath, 'wb') as f:\n",
    "    f.write(r.content)"
   ]
  },
  {
   "cell_type": "code",
   "execution_count": 8,
   "metadata": {},
   "outputs": [],
   "source": [
    "df_raw = read_ods(filepath, 1)\n",
    "\n",
    "headers = df_raw.iloc[6, :].values\n",
    "cols = dict(zip(df_raw.columns, df_raw.iloc[6, :].values))\n",
    "\n",
    "df = (df_raw\n",
    "          .iloc[27: 105, :]\n",
    "          .rename(columns=cols)\n",
    "          .reset_index(drop=True)\n",
    "         )"
   ]
  },
  {
   "cell_type": "code",
   "execution_count": 10,
   "metadata": {},
   "outputs": [],
   "source": [
    "df.columns = ['Date', 'Petrol', 'Diesel', 'Hybrid Electric',\n",
    "       'Plug-in Hybrid Electric', 'Battery Electric',\n",
    "       'Range-Extended Electric', 'Fuel Cell Electric', 'Gas', 'Other',\n",
    "       'Total', 'Alternative Fuels']"
   ]
  },
  {
   "cell_type": "code",
   "execution_count": 18,
   "metadata": {},
   "outputs": [
    {
     "output_type": "execute_result",
     "data": {
      "text/plain": [
       "      Date   Petrol   Diesel Hybrid Electric Plug-in Hybrid Electric  \\\n",
       "0  2001 Q1  598.295  108.329           0.248                       0   \n",
       "\n",
       "  Battery Electric Range-Extended Electric Fuel Cell Electric    Gas  Other  \\\n",
       "0            0.015                       0                  0  1.035  0.001   \n",
       "\n",
       "     Total Alternative Fuels  \n",
       "0  707.923             1.299  "
      ],
      "text/html": "<div>\n<style scoped>\n    .dataframe tbody tr th:only-of-type {\n        vertical-align: middle;\n    }\n\n    .dataframe tbody tr th {\n        vertical-align: top;\n    }\n\n    .dataframe thead th {\n        text-align: right;\n    }\n</style>\n<table border=\"1\" class=\"dataframe\">\n  <thead>\n    <tr style=\"text-align: right;\">\n      <th></th>\n      <th>Date</th>\n      <th>Petrol</th>\n      <th>Diesel</th>\n      <th>Hybrid Electric</th>\n      <th>Plug-in Hybrid Electric</th>\n      <th>Battery Electric</th>\n      <th>Range-Extended Electric</th>\n      <th>Fuel Cell Electric</th>\n      <th>Gas</th>\n      <th>Other</th>\n      <th>Total</th>\n      <th>Alternative Fuels</th>\n    </tr>\n  </thead>\n  <tbody>\n    <tr>\n      <th>0</th>\n      <td>2001 Q1</td>\n      <td>598.295</td>\n      <td>108.329</td>\n      <td>0.248</td>\n      <td>0</td>\n      <td>0.015</td>\n      <td>0</td>\n      <td>0</td>\n      <td>1.035</td>\n      <td>0.001</td>\n      <td>707.923</td>\n      <td>1.299</td>\n    </tr>\n  </tbody>\n</table>\n</div>"
     },
     "metadata": {},
     "execution_count": 18
    }
   ],
   "source": [
    "df.head(1)"
   ]
  },
  {
   "cell_type": "code",
   "execution_count": 17,
   "metadata": {},
   "outputs": [
    {
     "output_type": "execute_result",
     "data": {
      "text/plain": [
       "       Date   Petrol  Diesel Hybrid Electric Plug-in Hybrid Electric  \\\n",
       "77  2020 Q2  105.211  29.892          14.498                   5.736   \n",
       "\n",
       "   Battery Electric Range-Extended Electric Fuel Cell Electric    Gas Other  \\\n",
       "77           12.639                   0.006              0.007  0.074     0   \n",
       "\n",
       "      Total Alternative Fuels  \n",
       "77  168.063             32.96  "
      ],
      "text/html": "<div>\n<style scoped>\n    .dataframe tbody tr th:only-of-type {\n        vertical-align: middle;\n    }\n\n    .dataframe tbody tr th {\n        vertical-align: top;\n    }\n\n    .dataframe thead th {\n        text-align: right;\n    }\n</style>\n<table border=\"1\" class=\"dataframe\">\n  <thead>\n    <tr style=\"text-align: right;\">\n      <th></th>\n      <th>Date</th>\n      <th>Petrol</th>\n      <th>Diesel</th>\n      <th>Hybrid Electric</th>\n      <th>Plug-in Hybrid Electric</th>\n      <th>Battery Electric</th>\n      <th>Range-Extended Electric</th>\n      <th>Fuel Cell Electric</th>\n      <th>Gas</th>\n      <th>Other</th>\n      <th>Total</th>\n      <th>Alternative Fuels</th>\n    </tr>\n  </thead>\n  <tbody>\n    <tr>\n      <th>77</th>\n      <td>2020 Q2</td>\n      <td>105.211</td>\n      <td>29.892</td>\n      <td>14.498</td>\n      <td>5.736</td>\n      <td>12.639</td>\n      <td>0.006</td>\n      <td>0.007</td>\n      <td>0.074</td>\n      <td>0</td>\n      <td>168.063</td>\n      <td>32.96</td>\n    </tr>\n  </tbody>\n</table>\n</div>"
     },
     "metadata": {},
     "execution_count": 17
    }
   ],
   "source": [
    "df.tail(1)"
   ]
  },
  {
   "cell_type": "code",
   "execution_count": 15,
   "metadata": {},
   "outputs": [
    {
     "output_type": "execute_result",
     "data": {
      "text/plain": [
       "7.52"
      ]
     },
     "metadata": {},
     "execution_count": 15
    }
   ],
   "source": [
    "# what is the % share of battery electric vehicles in 2020 Q2?\n",
    "round((df.tail(1)[['Battery Electric']].sum().sum() / df[df['Date']=='2020 Q2']['Total']).values[0] * 100, 2)"
   ]
  },
  {
   "source": [
    "## 2. Miles travelled by vehicle make, model and fuelType 2015-2019"
   ],
   "cell_type": "markdown",
   "metadata": {}
  },
  {
   "cell_type": "code",
   "execution_count": 37,
   "metadata": {},
   "outputs": [],
   "source": [
    "file_url =  'https://storage.googleapis.com/new_automotive/yearly_mileage_make-model-fuelType_2015-2019.csv'\n",
    "filepath = f'data/yearly_mileage_make-model-fuelType_2015-2019.csv'\n",
    "\n",
    "r = requests.get(file_url)\n",
    "with open(filepath, 'wb') as f:\n",
    "    f.write(r.content)"
   ]
  },
  {
   "cell_type": "code",
   "execution_count": 45,
   "metadata": {},
   "outputs": [],
   "source": [
    "df = pd.read_csv('data/yearly_mileage_make-model-fuelType_2015-2019.csv')"
   ]
  },
  {
   "cell_type": "code",
   "execution_count": 46,
   "metadata": {},
   "outputs": [
    {
     "output_type": "execute_result",
     "data": {
      "text/plain": [
       "   Unnamed: 0       mileage     y  make    model fuelType\n",
       "0           0  1.073740e+10  2017  FORD  TRANSIT   Diesel\n",
       "1           1  1.049419e+10  2018  FORD  TRANSIT   Diesel\n",
       "2           2  1.016843e+10  2016  FORD  TRANSIT   Diesel\n",
       "3           3  9.952579e+09  2019  FORD  TRANSIT   Diesel\n",
       "4           4  9.661517e+09  2018  FORD   FIESTA   Petrol"
      ],
      "text/html": "<div>\n<style scoped>\n    .dataframe tbody tr th:only-of-type {\n        vertical-align: middle;\n    }\n\n    .dataframe tbody tr th {\n        vertical-align: top;\n    }\n\n    .dataframe thead th {\n        text-align: right;\n    }\n</style>\n<table border=\"1\" class=\"dataframe\">\n  <thead>\n    <tr style=\"text-align: right;\">\n      <th></th>\n      <th>Unnamed: 0</th>\n      <th>mileage</th>\n      <th>y</th>\n      <th>make</th>\n      <th>model</th>\n      <th>fuelType</th>\n    </tr>\n  </thead>\n  <tbody>\n    <tr>\n      <th>0</th>\n      <td>0</td>\n      <td>1.073740e+10</td>\n      <td>2017</td>\n      <td>FORD</td>\n      <td>TRANSIT</td>\n      <td>Diesel</td>\n    </tr>\n    <tr>\n      <th>1</th>\n      <td>1</td>\n      <td>1.049419e+10</td>\n      <td>2018</td>\n      <td>FORD</td>\n      <td>TRANSIT</td>\n      <td>Diesel</td>\n    </tr>\n    <tr>\n      <th>2</th>\n      <td>2</td>\n      <td>1.016843e+10</td>\n      <td>2016</td>\n      <td>FORD</td>\n      <td>TRANSIT</td>\n      <td>Diesel</td>\n    </tr>\n    <tr>\n      <th>3</th>\n      <td>3</td>\n      <td>9.952579e+09</td>\n      <td>2019</td>\n      <td>FORD</td>\n      <td>TRANSIT</td>\n      <td>Diesel</td>\n    </tr>\n    <tr>\n      <th>4</th>\n      <td>4</td>\n      <td>9.661517e+09</td>\n      <td>2018</td>\n      <td>FORD</td>\n      <td>FIESTA</td>\n      <td>Petrol</td>\n    </tr>\n  </tbody>\n</table>\n</div>"
     },
     "metadata": {},
     "execution_count": 46
    }
   ],
   "source": [
    "df.head()"
   ]
  },
  {
   "source": [
    "## 3. CO2 Emissions over time\n",
    "\n",
    "Two datasets, one with just age and fueltype, and one with make and model.  \n",
    "These have been aggregated from a set of 1.5m vehicles sampled from the DVLA vehicle checker API.  \n",
    "Try it yourself here: https://vehicleenquiry.service.gov.uk/"
   ],
   "cell_type": "markdown",
   "metadata": {}
  },
  {
   "cell_type": "code",
   "execution_count": 32,
   "metadata": {},
   "outputs": [],
   "source": [
    "file_url =  'https://storage.googleapis.com/new_automotive/avg_co2Emissions_by_fuelType_yearOfManufacture.csv'\n",
    "filepath = f'data/avg_co2Emissions_by_fuelType_yearOfManufacture.csv'\n",
    "\n",
    "r = requests.get(file_url)\n",
    "with open(filepath, 'wb') as f:\n",
    "    f.write(r.content)"
   ]
  },
  {
   "cell_type": "code",
   "execution_count": 47,
   "metadata": {},
   "outputs": [],
   "source": [
    "file_url =  'https://storage.googleapis.com/new_automotive/avg_co2Emissions_by_fuelType_yearOfManufacture_make_model.csv'\n",
    "filepath = f'data/avg_co2Emissions_by_fuelType_yearOfManufacture_make_model.csv'\n",
    "\n",
    "r = requests.get(file_url)\n",
    "with open(filepath, 'wb') as f:\n",
    "    f.write(r.content)"
   ]
  },
  {
   "cell_type": "code",
   "execution_count": 48,
   "metadata": {},
   "outputs": [],
   "source": [
    "df = pd.read_csv(filepath)"
   ]
  },
  {
   "cell_type": "code",
   "execution_count": 49,
   "metadata": {},
   "outputs": [
    {
     "output_type": "execute_result",
     "data": {
      "text/plain": [
       "   avg_co2Emissions  avg_engineCapacity fuelType  yearOfManufacture  \\\n",
       "0               NaN         3995.250000   PETROL             1967.0   \n",
       "1               NaN         6750.000000   PETROL             1976.0   \n",
       "2               NaN         4235.000000   PETROL             1974.0   \n",
       "3               NaN         2303.222222   PETROL             1987.0   \n",
       "4               NaN         1414.100000   PETROL             1973.0   \n",
       "\n",
       "           make            model  \n",
       "0  ASTON MARTIN              DB6  \n",
       "1   ROLLS ROYCE  SILVER SHADOW 1  \n",
       "2       DAIMLER            DS420  \n",
       "3           BMW         3 SERIES  \n",
       "4    VOLKSWAGEN           BEETLE  "
      ],
      "text/html": "<div>\n<style scoped>\n    .dataframe tbody tr th:only-of-type {\n        vertical-align: middle;\n    }\n\n    .dataframe tbody tr th {\n        vertical-align: top;\n    }\n\n    .dataframe thead th {\n        text-align: right;\n    }\n</style>\n<table border=\"1\" class=\"dataframe\">\n  <thead>\n    <tr style=\"text-align: right;\">\n      <th></th>\n      <th>avg_co2Emissions</th>\n      <th>avg_engineCapacity</th>\n      <th>fuelType</th>\n      <th>yearOfManufacture</th>\n      <th>make</th>\n      <th>model</th>\n    </tr>\n  </thead>\n  <tbody>\n    <tr>\n      <th>0</th>\n      <td>NaN</td>\n      <td>3995.250000</td>\n      <td>PETROL</td>\n      <td>1967.0</td>\n      <td>ASTON MARTIN</td>\n      <td>DB6</td>\n    </tr>\n    <tr>\n      <th>1</th>\n      <td>NaN</td>\n      <td>6750.000000</td>\n      <td>PETROL</td>\n      <td>1976.0</td>\n      <td>ROLLS ROYCE</td>\n      <td>SILVER SHADOW 1</td>\n    </tr>\n    <tr>\n      <th>2</th>\n      <td>NaN</td>\n      <td>4235.000000</td>\n      <td>PETROL</td>\n      <td>1974.0</td>\n      <td>DAIMLER</td>\n      <td>DS420</td>\n    </tr>\n    <tr>\n      <th>3</th>\n      <td>NaN</td>\n      <td>2303.222222</td>\n      <td>PETROL</td>\n      <td>1987.0</td>\n      <td>BMW</td>\n      <td>3 SERIES</td>\n    </tr>\n    <tr>\n      <th>4</th>\n      <td>NaN</td>\n      <td>1414.100000</td>\n      <td>PETROL</td>\n      <td>1973.0</td>\n      <td>VOLKSWAGEN</td>\n      <td>BEETLE</td>\n    </tr>\n  </tbody>\n</table>\n</div>"
     },
     "metadata": {},
     "execution_count": 49
    }
   ],
   "source": [
    "df.head()"
   ]
  },
  {
   "source": [
    "## 4. EV Growth by Local Authority (LA) over time"
   ],
   "cell_type": "markdown",
   "metadata": {}
  },
  {
   "cell_type": "code",
   "execution_count": 34,
   "metadata": {},
   "outputs": [],
   "source": [
    "file_url = 'https://assets.publishing.service.gov.uk/government/uploads/system/uploads/attachment_data/file/853462/veh0131.ods'\n",
    "filepath = f'data/veh0131.ods'\n",
    "\n",
    "r = requests.get(file_url)\n",
    "with open(filepath, 'wb') as f:\n",
    "    f.write(r.content)"
   ]
  },
  {
   "cell_type": "code",
   "execution_count": 35,
   "metadata": {},
   "outputs": [
    {
     "output_type": "execute_result",
     "data": {
      "text/plain": [
       "  ONS LA Code Region/Local Authority 2020 Q2 2020 Q1 2019 Q4 2019 Q3 2019 Q2  \\\n",
       "0   K02000001         United Kingdom  300931  283910  253957  230811  211440   \n",
       "1   K03000001          Great Britain  297305  280453  250865  227881  208677   \n",
       "2   E92000001                England  268326  255106  225804  204890  187854   \n",
       "3   E12000001             North East    4666    4565    4112    3917    3613   \n",
       "4   E06000047       County Durham UA     930     906     786     745     714   \n",
       "\n",
       "  2019 Q1 2018 Q4 2018 Q3  ... 2014 Q1 2013 Q4 2013 Q3 2013 Q2 2013 Q1  \\\n",
       "0  199886  186407  172220  ...   13616   11868   10905   10122    9213   \n",
       "1  197217  183909  169827  ...   13427   11706   10760    9995    9119   \n",
       "2  177784  166265  153128  ...   11933   10426    9578    8849    8135   \n",
       "3    3448    3384    3198  ...     413     343     321     290     256   \n",
       "4     673     671     631  ...      69      58      53      39      30   \n",
       "\n",
       "  2012 Q4 2012 Q3 2012 Q2 2012 Q1 2011 Q4  \n",
       "0    8606    7843    7211    6563    6228  \n",
       "1    8530    7778    7169    6537    6206  \n",
       "2    7544    6998    6420    5909    5705  \n",
       "3     235     226     202     182     189  \n",
       "4      27      26      22      20      39  \n",
       "\n",
       "[5 rows x 37 columns]"
      ],
      "text/html": "<div>\n<style scoped>\n    .dataframe tbody tr th:only-of-type {\n        vertical-align: middle;\n    }\n\n    .dataframe tbody tr th {\n        vertical-align: top;\n    }\n\n    .dataframe thead th {\n        text-align: right;\n    }\n</style>\n<table border=\"1\" class=\"dataframe\">\n  <thead>\n    <tr style=\"text-align: right;\">\n      <th></th>\n      <th>ONS LA Code</th>\n      <th>Region/Local Authority</th>\n      <th>2020 Q2</th>\n      <th>2020 Q1</th>\n      <th>2019 Q4</th>\n      <th>2019 Q3</th>\n      <th>2019 Q2</th>\n      <th>2019 Q1</th>\n      <th>2018 Q4</th>\n      <th>2018 Q3</th>\n      <th>...</th>\n      <th>2014 Q1</th>\n      <th>2013 Q4</th>\n      <th>2013 Q3</th>\n      <th>2013 Q2</th>\n      <th>2013 Q1</th>\n      <th>2012 Q4</th>\n      <th>2012 Q3</th>\n      <th>2012 Q2</th>\n      <th>2012 Q1</th>\n      <th>2011 Q4</th>\n    </tr>\n  </thead>\n  <tbody>\n    <tr>\n      <th>0</th>\n      <td>K02000001</td>\n      <td>United Kingdom</td>\n      <td>300931</td>\n      <td>283910</td>\n      <td>253957</td>\n      <td>230811</td>\n      <td>211440</td>\n      <td>199886</td>\n      <td>186407</td>\n      <td>172220</td>\n      <td>...</td>\n      <td>13616</td>\n      <td>11868</td>\n      <td>10905</td>\n      <td>10122</td>\n      <td>9213</td>\n      <td>8606</td>\n      <td>7843</td>\n      <td>7211</td>\n      <td>6563</td>\n      <td>6228</td>\n    </tr>\n    <tr>\n      <th>1</th>\n      <td>K03000001</td>\n      <td>Great Britain</td>\n      <td>297305</td>\n      <td>280453</td>\n      <td>250865</td>\n      <td>227881</td>\n      <td>208677</td>\n      <td>197217</td>\n      <td>183909</td>\n      <td>169827</td>\n      <td>...</td>\n      <td>13427</td>\n      <td>11706</td>\n      <td>10760</td>\n      <td>9995</td>\n      <td>9119</td>\n      <td>8530</td>\n      <td>7778</td>\n      <td>7169</td>\n      <td>6537</td>\n      <td>6206</td>\n    </tr>\n    <tr>\n      <th>2</th>\n      <td>E92000001</td>\n      <td>England</td>\n      <td>268326</td>\n      <td>255106</td>\n      <td>225804</td>\n      <td>204890</td>\n      <td>187854</td>\n      <td>177784</td>\n      <td>166265</td>\n      <td>153128</td>\n      <td>...</td>\n      <td>11933</td>\n      <td>10426</td>\n      <td>9578</td>\n      <td>8849</td>\n      <td>8135</td>\n      <td>7544</td>\n      <td>6998</td>\n      <td>6420</td>\n      <td>5909</td>\n      <td>5705</td>\n    </tr>\n    <tr>\n      <th>3</th>\n      <td>E12000001</td>\n      <td>North East</td>\n      <td>4666</td>\n      <td>4565</td>\n      <td>4112</td>\n      <td>3917</td>\n      <td>3613</td>\n      <td>3448</td>\n      <td>3384</td>\n      <td>3198</td>\n      <td>...</td>\n      <td>413</td>\n      <td>343</td>\n      <td>321</td>\n      <td>290</td>\n      <td>256</td>\n      <td>235</td>\n      <td>226</td>\n      <td>202</td>\n      <td>182</td>\n      <td>189</td>\n    </tr>\n    <tr>\n      <th>4</th>\n      <td>E06000047</td>\n      <td>County Durham UA</td>\n      <td>930</td>\n      <td>906</td>\n      <td>786</td>\n      <td>745</td>\n      <td>714</td>\n      <td>673</td>\n      <td>671</td>\n      <td>631</td>\n      <td>...</td>\n      <td>69</td>\n      <td>58</td>\n      <td>53</td>\n      <td>39</td>\n      <td>30</td>\n      <td>27</td>\n      <td>26</td>\n      <td>22</td>\n      <td>20</td>\n      <td>39</td>\n    </tr>\n  </tbody>\n</table>\n<p>5 rows × 37 columns</p>\n</div>"
     },
     "metadata": {},
     "execution_count": 35
    }
   ],
   "source": [
    "df_raw = read_ods(filepath, 1)\n",
    "\n",
    "headers = df_raw.iloc[5, :].values\n",
    "cols = dict(zip(df_raw.columns, df_raw.iloc[5, :].values))\n",
    "\n",
    "df = (df_raw\n",
    "      .iloc[6:478, :]\n",
    "      .rename(columns=cols)\n",
    "      .reset_index(drop=True)\n",
    "     )\n",
    "\n",
    "# dropping null regions\n",
    "df = df[df[['ONS LA Code', 'Region/Local Authority']].isnull().sum(axis=1) == 0]\n",
    "\n",
    "df.head()"
   ]
  },
  {
   "source": [
    "This data blends Local Authority and Region codes.  \n",
    "To disentangle, the codes need to map to either a LA or a Region.  \n",
    "\n",
    "LA codes: https://data.gov.uk/dataset/24d87ad2-0fa9-4b35-816a-89f9d92b0042/local-authority-districts-april-2020-names-and-codes-in-the-united-kingdom\n",
    "\n",
    "GeoJson and CSV is available.\n"
   ],
   "cell_type": "markdown",
   "metadata": {}
  },
  {
   "source": [
    "## 5. What type of vehicles are there?\n",
    "\n",
    "A DfT spreadsheet provides vehicle Make and Model by vehicle type (the tabs are different vehicle types). But some Makes / Models appear across multiple categories. Can we create a matching for Make / Model to a predominant vehicle type (maybe by count), and use that to slice other datasets by vehicle type?  \n",
    "\n",
    "https://assets.publishing.service.gov.uk/government/uploads/system/uploads/attachment_data/file/917200/veh0120.ods\n",
    "\n",
    "\n",
    "\n"
   ],
   "cell_type": "markdown",
   "metadata": {}
  },
  {
   "source": [
    "We also have an aggregated set of 35m active vehicles (vehicles with MOTs in date at around September 2020).\n",
    "\n"
   ],
   "cell_type": "markdown",
   "metadata": {}
  },
  {
   "cell_type": "code",
   "execution_count": 41,
   "metadata": {},
   "outputs": [],
   "source": [
    "file_url = 'https://storage.googleapis.com/new_automotive/active_vehicle_counts.csv'\n",
    "filepath = f'data/active_vehicle_counts.csv'\n",
    "\n",
    "r = requests.get(file_url)\n",
    "with open(filepath, 'wb') as f:\n",
    "    f.write(r.content)"
   ]
  },
  {
   "cell_type": "code",
   "execution_count": 42,
   "metadata": {},
   "outputs": [],
   "source": [
    "df = pd.read_csv(filepath)"
   ]
  },
  {
   "cell_type": "code",
   "execution_count": 43,
   "metadata": {},
   "outputs": [
    {
     "output_type": "execute_result",
     "data": {
      "text/plain": [
       "   count  avg_engineSize    make          model  avg_year fuelType  \\\n",
       "0  34243             NaN     NaN            NaN       NaN      NaN   \n",
       "1   2949          996.03  SUZUKI           ALTO   2011.40   Petrol   \n",
       "2     33          399.85     BSA        UNKNOWN   1955.94   Petrol   \n",
       "3      1         2500.00     LDV         CONVOY   2001.00   Diesel   \n",
       "4     51          996.00  SUZUKI  ALTO SZ4 AUTO   2012.39   Petrol   \n",
       "\n",
       "  primaryColour  \n",
       "0           NaN  \n",
       "1          Pink  \n",
       "2    Not Stated  \n",
       "3          Pink  \n",
       "4          Pink  "
      ],
      "text/html": "<div>\n<style scoped>\n    .dataframe tbody tr th:only-of-type {\n        vertical-align: middle;\n    }\n\n    .dataframe tbody tr th {\n        vertical-align: top;\n    }\n\n    .dataframe thead th {\n        text-align: right;\n    }\n</style>\n<table border=\"1\" class=\"dataframe\">\n  <thead>\n    <tr style=\"text-align: right;\">\n      <th></th>\n      <th>count</th>\n      <th>avg_engineSize</th>\n      <th>make</th>\n      <th>model</th>\n      <th>avg_year</th>\n      <th>fuelType</th>\n      <th>primaryColour</th>\n    </tr>\n  </thead>\n  <tbody>\n    <tr>\n      <th>0</th>\n      <td>34243</td>\n      <td>NaN</td>\n      <td>NaN</td>\n      <td>NaN</td>\n      <td>NaN</td>\n      <td>NaN</td>\n      <td>NaN</td>\n    </tr>\n    <tr>\n      <th>1</th>\n      <td>2949</td>\n      <td>996.03</td>\n      <td>SUZUKI</td>\n      <td>ALTO</td>\n      <td>2011.40</td>\n      <td>Petrol</td>\n      <td>Pink</td>\n    </tr>\n    <tr>\n      <th>2</th>\n      <td>33</td>\n      <td>399.85</td>\n      <td>BSA</td>\n      <td>UNKNOWN</td>\n      <td>1955.94</td>\n      <td>Petrol</td>\n      <td>Not Stated</td>\n    </tr>\n    <tr>\n      <th>3</th>\n      <td>1</td>\n      <td>2500.00</td>\n      <td>LDV</td>\n      <td>CONVOY</td>\n      <td>2001.00</td>\n      <td>Diesel</td>\n      <td>Pink</td>\n    </tr>\n    <tr>\n      <th>4</th>\n      <td>51</td>\n      <td>996.00</td>\n      <td>SUZUKI</td>\n      <td>ALTO SZ4 AUTO</td>\n      <td>2012.39</td>\n      <td>Petrol</td>\n      <td>Pink</td>\n    </tr>\n  </tbody>\n</table>\n</div>"
     },
     "metadata": {},
     "execution_count": 43
    }
   ],
   "source": [
    "df.head()"
   ]
  },
  {
   "cell_type": "code",
   "execution_count": null,
   "metadata": {},
   "outputs": [],
   "source": []
  }
 ]
}